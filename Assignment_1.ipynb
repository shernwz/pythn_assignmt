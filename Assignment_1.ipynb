{
 "cells": [
  {
   "cell_type": "code",
   "execution_count": 1,
   "metadata": {},
   "outputs": [
    {
     "name": "stdout",
     "output_type": "stream",
     "text": [
      "Input radius = 5\n",
      "the Area of the circle with 5 is 78.5\n"
     ]
    }
   ],
   "source": [
    "pi = 3.14\n",
    "r = int(input('Input radius = '))\n",
    "print('the Area of the circle with {} is {}'.format(r,pi*r**2))\n",
    "    "
   ]
  },
  {
   "cell_type": "raw",
   "metadata": {},
   "source": []
  },
  {
   "cell_type": "code",
   "execution_count": 2,
   "metadata": {},
   "outputs": [
    {
     "name": "stdout",
     "output_type": "stream",
     "text": [
      "Enter any number -10\n",
      "negative number entered\n"
     ]
    }
   ],
   "source": [
    "num = input('Enter any number ')\n",
    "if int(num) < 0:\n",
    "    print('negative number entered')\n",
    "elif int(num) > 0:\n",
    "    print('positive number entered')\n",
    "else:\n",
    "    print('zer0 entered')"
   ]
  },
  {
   "cell_type": "markdown",
   "metadata": {},
   "source": [
    " "
   ]
  },
  {
   "cell_type": "code",
   "execution_count": 1,
   "metadata": {},
   "outputs": [
    {
     "name": "stdout",
     "output_type": "stream",
     "text": [
      "enter numerator = 7\n",
      "enter denomenator = 6\n",
      "number 7 is  not completely divisible by 6\n"
     ]
    }
   ],
   "source": [
    "num1 = input('enter numerator = ')\n",
    "num2 = input('enter denomenator = ')\n",
    "if int(num1)%int(num2) == 0:\n",
    "    print('number {} is completely divisible by {}'.format(num1,num2))\n",
    "else:\n",
    "    print('number {} is  not completely divisible by {}'.format(num1,num2))\n"
   ]
  },
  {
   "cell_type": "code",
   "execution_count": 2,
   "metadata": {},
   "outputs": [
    {
     "name": "stdout",
     "output_type": "stream",
     "text": [
      "enter radus of a sphere 6\n",
      "volume of sphere with radius 6 is 904.3199999999999\n"
     ]
    }
   ],
   "source": [
    "pi = 3.14\n",
    "rad = int(input('enter radus of a sphere '))\n",
    "vol = (4/3)*pi*rad**3\n",
    "print('volume of sphere with radius {} is {}'.format(rad,vol))\n"
   ]
  },
  {
   "cell_type": "markdown",
   "metadata": {},
   "source": []
  },
  {
   "cell_type": "code",
   "execution_count": 3,
   "metadata": {},
   "outputs": [
    {
     "name": "stdout",
     "output_type": "stream",
     "text": [
      "enter string = hey\n",
      "how many times do you want to copy it? = 3\n",
      "3 copies of hey are heyheyhey\n",
      "\n"
     ]
    }
   ],
   "source": [
    "strng = input('enter string = ')\n",
    "num2 = input('how many times do you want to copy it? = ')\n",
    "copy = strng*int(num2)\n",
    "print('{} copies of {} are {}'.format(num2,strng,copy))\n",
    "print()\n",
    "                 "
   ]
  },
  {
   "cell_type": "code",
   "execution_count": 4,
   "metadata": {},
   "outputs": [
    {
     "name": "stdout",
     "output_type": "stream",
     "text": [
      "enter a number= 36\n",
      "36 is an even number\n"
     ]
    }
   ],
   "source": [
    "numbr = input('enter a number= ')\n",
    "if int(numbr)%2 == 0:\n",
    "    print('{} is an even number'.format(numbr))\n",
    "else:\n",
    "    print('{} is an odd number'.format(numbr))"
   ]
  },
  {
   "cell_type": "code",
   "execution_count": 5,
   "metadata": {},
   "outputs": [
    {
     "name": "stdout",
     "output_type": "stream",
     "text": [
      "enter a character = p\n",
      "letter p is not a vowel\n"
     ]
    }
   ],
   "source": [
    "A = ['a','e','i','o','u','A','E','I','O','U']\n",
    "B = input('enter a character = ')\n",
    "if B in A:\n",
    "    print('letter {} is vowel'.format(B))\n",
    "else:\n",
    "    print('letter {} is not a vowel'.format(B))\n"
   ]
  },
  {
   "cell_type": "code",
   "execution_count": 6,
   "metadata": {},
   "outputs": [
    {
     "name": "stdout",
     "output_type": "stream",
     "text": [
      "enter magnitude of Triangle base: 5\n",
      "enter magnitude of Triangle height: 3\n",
      "Area of tringle with base 5 and height 3 is 7.5\n"
     ]
    }
   ],
   "source": [
    "b =int(input('enter magnitude of Triangle base: '))\n",
    "h = int(input('enter magnitude of Triangle height: '))\n",
    "area =(1/2)*b*h\n",
    "print('Area of tringle with base {} and height {} is {}'.format(b,h,area))"
   ]
  },
  {
   "cell_type": "code",
   "execution_count": 7,
   "metadata": {},
   "outputs": [
    {
     "name": "stdout",
     "output_type": "stream",
     "text": [
      "Please enter principal amount = 50000\n",
      "please enter rate of interest in % = 0.2\n",
      "Enter number of years for investment =  3\n",
      "After 3 years your principal amount 50000 over an interest rate of 0.2 % will be 300.0\n"
     ]
    }
   ],
   "source": [
    "a = int(input('Please enter principal amount = '))\n",
    "r = float(input('please enter rate of interest in % = '))\n",
    "y = int(input('Enter number of years for investment =  '))\n",
    "value = (a*r*y)/100\n",
    "print('After {} years your principal amount {} over an interest rate of {} % will be {}'.format(y,a,r,value))\n",
    "        \n"
   ]
  },
  {
   "cell_type": "code",
   "execution_count": 8,
   "metadata": {},
   "outputs": [
    {
     "name": "stdout",
     "output_type": "stream",
     "text": [
      "Enter Co-ordinate for x1: 3\n",
      "Enter Co-ordinate for x2: 5\n",
      "Enter Co-ordinate for y1: 6\n",
      "Enter Co-ordinate for y2: 8\n",
      "Distance between points (3,5) and (6,8) is 2.8284271247461903\n"
     ]
    }
   ],
   "source": [
    "p1 = int(input('Enter Co-ordinate for x1: '))\n",
    "p2 = int(input('Enter Co-ordinate for x2: '))\n",
    "p3 = int(input('Enter Co-ordinate for y1: '))\n",
    "p4 = int(input('Enter Co-ordinate for y2: '))\n",
    "import math\n",
    "distance = math.sqrt(((p1-p2)**2)+((p3-p4)**2))\n",
    "print('Distance between points ({},{}) and ({},{}) is {}'.format(p1,p2,p3,p4,distance))\n",
    " "
   ]
  },
  {
   "cell_type": "code",
   "execution_count": 9,
   "metadata": {},
   "outputs": [
    {
     "name": "stdout",
     "output_type": "stream",
     "text": [
      "enter height in feet = 10\n",
      "There are 304.8 Cm in 10 feet\n"
     ]
    }
   ],
   "source": [
    "h = int(input('enter height in feet = '))\n",
    "cm = 30.48*h\n",
    "print('There are {} Cm in {} feet'.format(cm,h))"
   ]
  },
  {
   "cell_type": "code",
   "execution_count": 10,
   "metadata": {},
   "outputs": [
    {
     "name": "stdout",
     "output_type": "stream",
     "text": [
      "Enter Height in Cm 100\n",
      "Enter Weight in Kg  4\n",
      "Your BMI is 0.0004\n"
     ]
    }
   ],
   "source": [
    "l = int(input('Enter Height in Cm '))\n",
    "w = int(input('Enter Weight in Kg  '))\n",
    "print('Your BMI is {}'.format(w/(l**2)))\n"
   ]
  },
  {
   "cell_type": "code",
   "execution_count": 11,
   "metadata": {},
   "outputs": [
    {
     "name": "stdout",
     "output_type": "stream",
     "text": [
      "enter a value for n 5\n",
      "Sum of Positive integers till 5 is 15\n"
     ]
    }
   ],
   "source": [
    "n = int(input('enter a value for n ')); i = n; sum = 0;\n",
    "while n > 0:\n",
    "    sum = sum+n\n",
    "    n = n-1\n",
    "print('Sum of Positive integers till {} is {}'.format(i,sum))"
   ]
  },
  {
   "cell_type": "code",
   "execution_count": 12,
   "metadata": {},
   "outputs": [
    {
     "name": "stdout",
     "output_type": "stream",
     "text": [
      "Enter a number:123\n",
      "The total sum of digits is: 6\n"
     ]
    }
   ],
   "source": [
    "n=int(input(\"Enter a number:\"))\n",
    "tot=0\n",
    "while(n>0):\n",
    "    dig=n%10\n",
    "    tot=tot+dig\n",
    "    n=n//10\n",
    "print(\"The total sum of digits is:\",tot)"
   ]
  },
  {
   "cell_type": "code",
   "execution_count": 13,
   "metadata": {},
   "outputs": [
    {
     "name": "stdout",
     "output_type": "stream",
     "text": [
      "Enter an integer: 5\n",
      "1 0 1 "
     ]
    }
   ],
   "source": [
    "def binary(n):\n",
    "        if n > 1:\n",
    "            binary(n//2)\n",
    "        print(n % 2,end = ' ')\n",
    "dec = int(input(\"Enter an integer: \"))\n",
    "binary(dec)\n",
    "\n",
    "\n",
    "          "
   ]
  },
  {
   "cell_type": "code",
   "execution_count": 14,
   "metadata": {},
   "outputs": [
    {
     "name": "stdout",
     "output_type": "stream",
     "text": [
      "Input a binary number: 1010\n",
      "The decimal value of the number is 10\n"
     ]
    }
   ],
   "source": [
    "b_num = list(input(\"Input a binary number: \"))\n",
    "value = 0\n",
    "for i in range(len(b_num)):\n",
    "    digit = b_num.pop()\n",
    "    if digit == '1':\n",
    "        value = value + pow(2, i)\n",
    "print('The decimal value of the number is {}'.format(value))"
   ]
  },
  {
   "cell_type": "code",
   "execution_count": 15,
   "metadata": {},
   "outputs": [
    {
     "name": "stdout",
     "output_type": "stream",
     "text": [
      "Enter string:pakistan\n",
      "Number of vowels are 3 \n",
      "numbers of consonents are 5\n"
     ]
    }
   ],
   "source": [
    "vowels = 0\n",
    "consonents = 0\n",
    "para = input(\"Enter string:\")\n",
    "vowels=0\n",
    "for i in para:\n",
    "    if(i=='a' or i=='e' or i=='i' or i=='o' or i=='u' or i=='A' or i=='E' or i=='I' or i=='O' or i=='U'):\n",
    "            vowels=vowels+1\n",
    "    else:\n",
    "        consonents = consonents+1\n",
    "print(\"Number of vowels are {} \".format(vowels))\n",
    "print('numbers of consonents are {}'.format(consonents))"
   ]
  },
  {
   "cell_type": "code",
   "execution_count": 17,
   "metadata": {},
   "outputs": [
    {
     "name": "stdout",
     "output_type": "stream",
     "text": [
      "enter any word= aha\n",
      "text aha is parlindrome\n"
     ]
    }
   ],
   "source": [
    "s = input('enter any word= ')\n",
    "def reverse(s): \n",
    "    return s[::-1] \n",
    "def isPalindrome(s): \n",
    "    rev = reverse(s) \n",
    "    if (s == rev): \n",
    "        print('text {} is parlindrome'.format(s))\n",
    "    else:\n",
    "        print('text {} is not a parlindrome'.format(s))\n",
    "isPalindrome(s)"
   ]
  },
  {
   "cell_type": "code",
   "execution_count": 18,
   "metadata": {},
   "outputs": [
    {
     "name": "stdout",
     "output_type": "stream",
     "text": [
      "Input a string= pakistan @1947\n",
      "Letters 8\n",
      "Digits 4\n",
      "special character 1\n",
      "spaces 1\n"
     ]
    }
   ],
   "source": [
    "s = list(input(\"Input a string= \"))\n",
    "d=l=spl=sp=0\n",
    "for i in range(len(s)):\n",
    "    if s[i].isdigit():\n",
    "        d += 1\n",
    "    elif s[i].isalpha():\n",
    "        l += 1\n",
    "    elif s[i].isspace():\n",
    "        sp += 1\n",
    "    else:\n",
    "        spl += 1\n",
    "print(\"Letters\", l)\n",
    "print(\"Digits\", d)\n",
    "print('special character',spl)\n",
    "print('spaces',sp)"
   ]
  },
  {
   "cell_type": "code",
   "execution_count": 19,
   "metadata": {},
   "outputs": [
    {
     "name": "stdout",
     "output_type": "stream",
     "text": [
      "\n",
      "\n",
      "* \n",
      "\n",
      "* * \n",
      "\n",
      "* * * \n",
      "\n",
      "* * * * \n",
      "\n",
      "* * * * * \n",
      "\n",
      "* * * * \n",
      "\n",
      "* * * \n",
      "\n",
      "* * \n",
      "\n",
      "* \n",
      "\n"
     ]
    }
   ],
   "source": [
    "for num in range(5):\n",
    "    for i in range(num):\n",
    "        print (\"*\", end=\" \")\n",
    "    print(\"\\n\")\n",
    "\n",
    "for  num in range(5,0,-1):\n",
    "    for j in range(num):\n",
    "        print('*',end=' ')\n",
    "    print('\\n')"
   ]
  },
  {
   "cell_type": "code",
   "execution_count": 20,
   "metadata": {},
   "outputs": [
    {
     "name": "stdout",
     "output_type": "stream",
     "text": [
      " \n",
      "\n",
      "0  \n",
      "\n",
      "0 1  \n",
      "\n",
      "0 1 2  \n",
      "\n",
      "0 1 2 3  \n",
      "\n",
      "0 1 2 3 4 5 \n",
      "\n",
      "0 1 2 3 4 \n",
      "\n",
      "0 1 2 3 \n",
      "\n",
      "0 1 2 \n",
      "\n",
      "0 1 \n",
      "\n",
      "0 \n",
      "\n"
     ]
    }
   ],
   "source": [
    "for num in range(5):\n",
    "    for i in range(num):\n",
    "        print (i, end=\" \")\n",
    "    print(\" \\n\")\n",
    "for  num in range(5,-1,-1):\n",
    "    for j in range(0,num+1):\n",
    "        print(j,end=' ')\n",
    "    print('\\n')\n"
   ]
  },
  {
   "cell_type": "code",
   "execution_count": 21,
   "metadata": {},
   "outputs": [
    {
     "name": "stdout",
     "output_type": "stream",
     "text": [
      " \n",
      "\n",
      "1  \n",
      "\n",
      "2 2  \n",
      "\n",
      "3 3 3  \n",
      "\n",
      "4 4 4 4  \n",
      "\n",
      "5 5 5 5 5  \n",
      "\n",
      "6 6 6 6 6 6  \n",
      "\n",
      "7 7 7 7 7 7 7  \n",
      "\n",
      "8 8 8 8 8 8 8 8  \n",
      "\n",
      "9 9 9 9 9 9 9 9 9  \n",
      "\n"
     ]
    }
   ],
   "source": [
    "for num in range(10):\n",
    "    for i in range(num):\n",
    "        print (num, end=\" \")\n",
    "    print(\" \\n\")\n"
   ]
  },
  {
   "cell_type": "code",
   "execution_count": null,
   "metadata": {},
   "outputs": [],
   "source": []
  }
 ],
 "metadata": {
  "kernelspec": {
   "display_name": "Python 3",
   "language": "python",
   "name": "python3"
  },
  "language_info": {
   "codemirror_mode": {
    "name": "ipython",
    "version": 3
   },
   "file_extension": ".py",
   "mimetype": "text/x-python",
   "name": "python",
   "nbconvert_exporter": "python",
   "pygments_lexer": "ipython3",
   "version": "3.7.3"
  }
 },
 "nbformat": 4,
 "nbformat_minor": 2
}
